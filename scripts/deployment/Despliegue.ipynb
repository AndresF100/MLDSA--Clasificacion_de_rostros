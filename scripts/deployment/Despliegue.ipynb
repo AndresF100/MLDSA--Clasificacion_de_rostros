{
 "cells": [
  {
   "cell_type": "markdown",
   "metadata": {},
   "source": [
    "# Despliegue de modelos"
   ]
  },
  {
   "cell_type": "code",
   "execution_count": 6,
   "metadata": {},
   "outputs": [
    {
     "name": "stdout",
     "output_type": "stream",
     "text": [
      "El modelo ya existe\n",
      "Found 3828 images belonging to 1680 classes.\n",
      "Running on local URL:  http://127.0.0.1:7870\n",
      "\n",
      "To create a public link, set `share=True` in `launch()`.\n"
     ]
    },
    {
     "data": {
      "text/html": [
       "<div><iframe src=\"http://127.0.0.1:7870/\" width=\"100%\" height=\"500\" allow=\"autoplay; camera; microphone; clipboard-read; clipboard-write;\" frameborder=\"0\" allowfullscreen></iframe></div>"
      ],
      "text/plain": [
       "<IPython.core.display.HTML object>"
      ]
     },
     "metadata": {},
     "output_type": "display_data"
    },
    {
     "data": {
      "text/plain": []
     },
     "execution_count": 6,
     "metadata": {},
     "output_type": "execute_result"
    },
    {
     "name": "stdout",
     "output_type": "stream",
     "text": [
      "1/1 [==============================] - 1s 1s/step\n",
      "1/1 [==============================] - 0s 30ms/step\n",
      "1/1 [==============================] - 0s 33ms/step\n",
      "1/1 [==============================] - 0s 33ms/step\n",
      "1/1 [==============================] - 0s 35ms/step\n",
      "1/1 [==============================] - 0s 30ms/step\n",
      "1/1 [==============================] - 0s 31ms/step\n"
     ]
    }
   ],
   "source": [
    "import gradio as gr\n",
    "from keras.models import load_model\n",
    "import gdown  \n",
    "import os\n",
    "import tensorflow as tf\n",
    "import numpy as np\n",
    "import cv2\n",
    "\n",
    "\n",
    "#verificar si existee modelo.h5\n",
    "output = 'modelo.h5'\n",
    "\n",
    "if os.path.isfile(output):\n",
    "    print(\"El modelo ya existe\")\n",
    "else:\n",
    "    print(\"El modelo no existe, se descargara\")\n",
    "    url = 'https://drive.google.com/uc?id=1_AghpfVDq0o6xnDdnjrySUSBsB5Qkq04'\n",
    "\n",
    "    gdown.download(url, output, quiet=False)\n",
    "\n",
    "\n",
    "modelo = load_model(output)  \n",
    "\n",
    "\n",
    "\n",
    "val_datagen = tf.keras.preprocessing.image.ImageDataGenerator(rescale=1./255)\n",
    "\n",
    "test_folder = \"../data_acquisition/test\"\n",
    "\n",
    "\n",
    "image_size = (250, 250)\n",
    "batch_size = 16\n",
    "\n",
    "validation_generator = val_datagen.flow_from_directory(directory = test_folder + \"/\",\n",
    "                                                       target_size = image_size,\n",
    "                                                       batch_size = batch_size,\n",
    "                                                       class_mode = 'categorical')\n",
    "\n",
    "\n",
    "def mapeo_indices(listado):\n",
    "\n",
    "    listado_clases = list(validation_generator.class_indices.keys())\n",
    "\n",
    "    true_index = np.argmax(listado,axis=1)\n",
    "    salida_real = [listado_clases[i] for i in true_index]\n",
    "\n",
    "    return salida_real\n",
    "\n",
    "\n",
    "\n",
    "\n",
    "def predict(img):\n",
    "    \n",
    "    if img.shape[0] >250 or img.shape[1] >250:\n",
    "            \n",
    "        height= img.shape[0]\n",
    "        width= img.shape[1]\n",
    "        \n",
    "        c_height= round(height/2)\n",
    "        c_width= round(width/2)\n",
    "\n",
    "        img = img[c_height-125:c_height+125, c_width-125:c_width+125]\n",
    "\n",
    "    \n",
    "    img = img / 255.0\n",
    "    img=img.reshape((-1, 250, 250, 3))\n",
    "\n",
    "    pred= modelo.predict(img)\n",
    "    \n",
    "    pred=mapeo_indices(pred)\n",
    "        \n",
    "    initial_path=\"../data_acquisition/train\"\n",
    "    var=pred[0]\n",
    "\n",
    "    ruta=os.path.join(initial_path,var )\n",
    "\n",
    "    imagen_de_base=os.path.join(ruta,np.random.choice(os.listdir(ruta)) )\n",
    "    comparativo=cv2.imread(imagen_de_base)\n",
    "    comparativo = cv2.cvtColor(comparativo, cv2.COLOR_BGR2RGB)\n",
    "    \n",
    "\n",
    "\n",
    "    return pred[0],comparativo\n",
    "\n",
    "\n",
    "\n",
    "with gr.Blocks(theme=gr.themes.Soft()) as demo:\n",
    "\n",
    "    gr.Markdown(\"## Reconocimiento de personas basado en imágenes previas\")\n",
    "    gr.Markdown(\"## Andrés Forero\")\n",
    "    \n",
    "\n",
    "\n",
    "    input = gr.Image(label=\"Sube una nueva imagen de una persona de la base de datos\")\n",
    "    b_predict = gr.Button(\"Predecir\")\n",
    "    with gr.Row():\n",
    "            \n",
    "        output = gr.Textbox( label=\"Predicción de etiqueta\",scale=1)\n",
    "        output2 = gr.Image( label=\"Foto aleatorio de predicción dentro de base de datos\",scale=4,width=250,height=250)\n",
    "\n",
    "    b_predict.click(predict, inputs=[input], outputs=[output,output2])\n",
    "\n",
    "\n",
    "demo.launch()\n",
    "\n",
    "\n"
   ]
  }
 ],
 "metadata": {
  "kernelspec": {
   "display_name": "Python 3",
   "language": "python",
   "name": "python3"
  },
  "language_info": {
   "codemirror_mode": {
    "name": "ipython",
    "version": 3
   },
   "file_extension": ".py",
   "mimetype": "text/x-python",
   "name": "python",
   "nbconvert_exporter": "python",
   "pygments_lexer": "ipython3",
   "version": "3.10.13"
  }
 },
 "nbformat": 4,
 "nbformat_minor": 2
}
